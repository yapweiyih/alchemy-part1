{
 "cells": [
  {
   "cell_type": "markdown",
   "metadata": {},
   "source": [
    "## Step 1: Generate OAuth URI"
   ]
  },
  {
   "cell_type": "code",
   "execution_count": 3,
   "metadata": {},
   "outputs": [
    {
     "name": "stdout",
     "output_type": "stream",
     "text": [
      "demo-agentspace-auth-20250727\n"
     ]
    }
   ],
   "source": [
    "from google.cloud import secretmanager\n",
    "import json\n",
    "\n",
    "client = secretmanager.SecretManagerServiceClient()\n",
    "\n",
    "\n",
    "def get_secret(secret_id, project_id):\n",
    "    name = f\"projects/{project_id}/secrets/{secret_id}/versions/latest\"\n",
    "    response = client.access_secret_version(request={\"name\": name})\n",
    "    return response.payload.data.decode(\"UTF-8\")\n",
    "\n",
    "\n",
    "########################################################\n",
    "# UPDATE THIS\n",
    "########################################################\n",
    "PROJECT_ID = \"hello-world-418507\"\n",
    "PROJECT_NUMBER = \"671247654914\"\n",
    "\n",
    "CLIENT_JSON = get_secret(\"AGENTSPACE_WEB_SECRET_JSON\", PROJECT_ID)\n",
    "client_config = json.loads(CLIENT_JSON)\n",
    "\n",
    "AUTH_ID = get_secret(\"AGENTSPACE_WEB_AUTH_ID\", PROJECT_ID)\n",
    "print(AUTH_ID)"
   ]
  },
  {
   "cell_type": "code",
   "execution_count": 4,
   "metadata": {},
   "outputs": [
    {
     "name": "stdout",
     "output_type": "stream",
     "text": [
      "OAUTH_AUTH_URI:\n",
      "https://accounts.google.com/o/oauth2/auth?response_type=code&client_id=671247654914-onsqf0obdfnkdpr0uj59hruev41u54i1.apps.googleusercontent.com&redirect_uri=https%3A%2F%2Fvertexaisearch.cloud.google.com%2Foauth-redirect&scope=https%3A%2F%2Fwww.googleapis.com%2Fauth%2Fgmail.modify+https%3A%2F%2Fwww.googleapis.com%2Fauth%2Fgmail.labels+https%3A%2F%2Fwww.googleapis.com%2Fauth%2Fcalendar.events+https%3A%2F%2Fwww.googleapis.com%2Fauth%2Fbigquery&state=MPQ55snuLwmgqzOjkhPKVNF1ciOFX0&access_type=online&include_granted_scopes=true&prompt=consent\n"
     ]
    }
   ],
   "source": [
    "import google_auth_oauthlib.flow\n",
    "\n",
    "# Scope: https://developers.google.com/identity/protocols/oauth2/scopes\n",
    "flow = google_auth_oauthlib.flow.Flow.from_client_config(\n",
    "    client_config,\n",
    "    scopes=[\n",
    "        \"https://www.googleapis.com/auth/gmail.modify\",\n",
    "        \"https://www.googleapis.com/auth/gmail.labels\",\n",
    "        \"https://www.googleapis.com/auth/calendar.events\",\n",
    "        \"https://www.googleapis.com/auth/bigquery\",\n",
    "    ],\n",
    ")\n",
    "\n",
    "flow.redirect_uri = \"https://vertexaisearch.cloud.google.com/oauth-redirect\"\n",
    "\n",
    "authorization_url, state = flow.authorization_url(\n",
    "    access_type=\"online\",  # Recommended, enable offline access so that you can refresh an access token without re-prompting\n",
    "    include_granted_scopes=\"true\",\n",
    "    prompt=\"consent\",\n",
    ")\n",
    "print(\"OAUTH_AUTH_URI:\")\n",
    "print(authorization_url)"
   ]
  },
  {
   "cell_type": "markdown",
   "metadata": {},
   "source": [
    "## Step 2: Create authorization"
   ]
  },
  {
   "cell_type": "code",
   "execution_count": null,
   "metadata": {},
   "outputs": [],
   "source": [
    "import subprocess\n",
    "import requests\n",
    "\n",
    "# Get access token\n",
    "access_token = subprocess.check_output(\n",
    "    [\"gcloud\", \"auth\", \"print-access-token\"], text=True\n",
    ").strip()\n",
    "\n",
    "# Prepare the request data\n",
    "data = {\n",
    "    \"name\": f\"projects/{PROJECT_NUMBER}/locations/global/authorizations/{AUTH_ID}\",\n",
    "    \"serverSideOauth2\": {\n",
    "        \"clientId\": client_config[\"web\"][\"client_id\"],\n",
    "        \"clientSecret\": client_config[\"web\"][\"client_secret\"],\n",
    "        \"authorizationUri\": authorization_url,\n",
    "        \"tokenUri\": client_config[\"web\"][\"token_uri\"],\n",
    "    },\n",
    "}\n",
    "\n",
    "# Make the API request\n",
    "url = f\"https://discoveryengine.googleapis.com/v1alpha/projects/{PROJECT_NUMBER}/locations/global/authorizations?authorizationId={AUTH_ID}\"\n",
    "\n",
    "headers = {\n",
    "    \"Authorization\": f\"Bearer {access_token}\",\n",
    "    \"Content-Type\": \"application/json\",\n",
    "    \"X-Goog-User-Project\": PROJECT_NUMBER,\n",
    "}\n",
    "\n",
    "\n",
    "response = requests.post(url, headers=headers, json=data)\n",
    "print(f\"Status Code: {response.status_code}\")\n",
    "print(response.text)\n"
   ]
  },
  {
   "cell_type": "markdown",
   "metadata": {},
   "source": [
    "## Step 3: Delete authorization"
   ]
  },
  {
   "cell_type": "code",
   "execution_count": null,
   "metadata": {},
   "outputs": [],
   "source": [
    "import subprocess\n",
    "import requests\n",
    "\n",
    "access_token = subprocess.check_output(\n",
    "    [\"gcloud\", \"auth\", \"print-access-token\"], text=True\n",
    ").strip()\n",
    "\n",
    "# Make the DELETE request\n",
    "url = f\"https://discoveryengine.googleapis.com/v1alpha/projects/{PROJECT_NUMBER}/locations/global/authorizations/{AUTH_ID}\"\n",
    "\n",
    "headers = {\n",
    "    \"Authorization\": f\"Bearer {access_token}\",\n",
    "    \"Content-Type\": \"application/json\",\n",
    "    \"X-Goog-User-Project\": PROJECT_NUMBER,\n",
    "}\n",
    "\n",
    "response = requests.delete(url, headers=headers)\n",
    "print(f\"Status Code: {response.status_code}\")\n",
    "print(f\"Response: {response.text}\")\n"
   ]
  },
  {
   "cell_type": "code",
   "execution_count": null,
   "metadata": {},
   "outputs": [],
   "source": []
  }
 ],
 "metadata": {
  "kernelspec": {
   "display_name": ".venv",
   "language": "python",
   "name": "python3"
  },
  "language_info": {
   "codemirror_mode": {
    "name": "ipython",
    "version": 3
   },
   "file_extension": ".py",
   "mimetype": "text/x-python",
   "name": "python",
   "nbconvert_exporter": "python",
   "pygments_lexer": "ipython3",
   "version": "3.12.9"
  }
 },
 "nbformat": 4,
 "nbformat_minor": 2
}
